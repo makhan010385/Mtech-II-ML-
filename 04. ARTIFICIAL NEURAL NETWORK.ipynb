{
 "cells": [
  {
   "cell_type": "code",
   "execution_count": 28,
   "metadata": {
    "collapsed": true
   },
   "outputs": [],
   "source": [
    "import numpy as np\n",
    "X = np.array(([2, 9], [1, 5], [3, 6]), dtype=float)\n",
    "y = np.array(([92], [86], [89]), dtype=float)\n",
    "X = X/np.amax(X,axis=0) \n",
    "y = y/100"
   ]
  },
  {
   "cell_type": "code",
   "execution_count": 29,
   "metadata": {
    "collapsed": true
   },
   "outputs": [],
   "source": [
    "def sigmoid (x):\n",
    "    return 1/(1 + np.exp(-x))\n",
    "\n",
    "def derivatives_sigmoid(x):\n",
    "    return x * (1 - x)"
   ]
  },
  {
   "cell_type": "code",
   "execution_count": 30,
   "metadata": {
    "collapsed": true
   },
   "outputs": [],
   "source": [
    "epoch=7000 #number of iterations\n",
    "learning_rate=0.1 #learning rate eta\n",
    "inputlayer_neurons = 2 #number of neurons in input layer\n",
    "hiddenlayer_neurons = 3 #number of neurons in hidden layer\n",
    "output_neurons = 1 #number of neurons in output layer"
   ]
  },
  {
   "cell_type": "code",
   "execution_count": 31,
   "metadata": {
    "collapsed": true
   },
   "outputs": [],
   "source": [
    "wh=np.random.uniform(size=(inputlayer_neurons,hiddenlayer_neurons)) #wh=hidden layer weights\n",
    "bh=np.random.uniform(size=(1,hiddenlayer_neurons))#bh=hidden layer bias\n",
    "wo=np.random.uniform(size=(hiddenlayer_neurons,output_neurons)) #wo=output layer weights\n",
    "bo=np.random.uniform(size=(1,output_neurons))#bo=output layer bias"
   ]
  },
  {
   "cell_type": "code",
   "execution_count": 32,
   "metadata": {
    "collapsed": true
   },
   "outputs": [],
   "source": [
    "for i in range(epoch):\n",
    "#Forward Propogation\n",
    "    net_h=np.dot(X,wh) + bh #net_h=net input for hidden layer\n",
    "    sigma_h= sigmoid(net_h) #sigma_h=output of sigmoid function of hidden layer\n",
    "    net_o= np.dot(sigma_h,wo)+ bo #net_o=net input for output layer\n",
    "    output = sigmoid(net_o) #output= is the output of output layer i.e sigmoid of net_o\n",
    "#Backpropagation\n",
    "    deltaK = (y-output)* derivatives_sigmoid(output) ##calculate deltak\n",
    "    deltaH =  deltaK.dot(wo.T) * derivatives_sigmoid(sigma_h) #deltaH\n",
    "    wo = wo + sigma_h.T.dot(deltaK) *learning_rate #Update output layer weights\n",
    "    wh = wh + X.T.dot(deltaH) *learning_rate #Update hidden layer weights"
   ]
  },
  {
   "cell_type": "code",
   "execution_count": 33,
   "metadata": {},
   "outputs": [
    {
     "name": "stdout",
     "output_type": "stream",
     "text": [
      "Input: \n",
      "[[0.66666667 1.        ]\n",
      " [0.33333333 0.55555556]\n",
      " [1.         0.66666667]]\n",
      "Actual Output: \n",
      "[[0.92]\n",
      " [0.86]\n",
      " [0.89]]\n",
      "Predicted Output: \n",
      " [[0.89454606]\n",
      " [0.88145161]\n",
      " [0.89393293]]\n"
     ]
    }
   ],
   "source": [
    "print(\"Input: \\n\" + str(X))\n",
    "print(\"Actual Output: \\n\" + str(y))\n",
    "print(\"Predicted Output: \\n\" ,output)"
   ]
  },
  {
   "cell_type": "code",
   "execution_count": null,
   "metadata": {
    "collapsed": true
   },
   "outputs": [],
   "source": []
  }
 ],
 "metadata": {
  "kernelspec": {
   "display_name": "Python 3",
   "language": "python",
   "name": "python3"
  },
  "language_info": {
   "codemirror_mode": {
    "name": "ipython",
    "version": 3
   },
   "file_extension": ".py",
   "mimetype": "text/x-python",
   "name": "python",
   "nbconvert_exporter": "python",
   "pygments_lexer": "ipython3",
   "version": "3.6.2"
  }
 },
 "nbformat": 4,
 "nbformat_minor": 2
}
