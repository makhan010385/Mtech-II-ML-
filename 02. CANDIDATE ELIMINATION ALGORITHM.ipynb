{
 "cells": [
  {
   "cell_type": "code",
   "execution_count": 1,
   "metadata": {
    "collapsed": true
   },
   "outputs": [],
   "source": [
    "from pandas import DataFrame\n",
    "data=DataFrame.from_csv('EnjoySport.csv')\n",
    "concepts=data.values[:,:-1]\n",
    "target=data.values[:,-1]"
   ]
  },
  {
   "cell_type": "code",
   "execution_count": 7,
   "metadata": {
    "collapsed": true
   },
   "outputs": [],
   "source": [
    "def learn(concepts, target):\n",
    "    specific_h = concepts[0].copy()\n",
    "    general_h = [['?' for i in range(len(specific_h))] for i in range(len(specific_h))]\n",
    "    for i, h in enumerate(concepts):\n",
    "        if target[i] == \"yes\":\n",
    "            #print(target[i])\n",
    "            for x in range(len(specific_h)):\n",
    "                if h[x] != specific_h[x]:\n",
    "                    specific_h[x] = '?'\n",
    "                    general_h[x][x] = '?'\n",
    "        if target[i] == \"no\":\n",
    "            for x in range(len(specific_h)):\n",
    "                if h[x] != specific_h[x]:\n",
    "                    general_h[x][x] = specific_h[x]\n",
    "                else:\n",
    "                    general_h[x][x] = '?'\n",
    "    indices = [i for i,val in enumerate(general_h) if val==['?' for i in range(len(specific_h))]]\n",
    "    for i in indices:\n",
    "        general_h.remove(['?' for i in range(len(specific_h))])\n",
    "    return specific_h, general_h"
   ]
  },
  {
   "cell_type": "code",
   "execution_count": 9,
   "metadata": {},
   "outputs": [
    {
     "name": "stdout",
     "output_type": "stream",
     "text": [
      "Final S:\n",
      "['sunny' 'warm' '?' 'strong' '?' '?']\n",
      "Final G:\n",
      "[['sunny', '?', '?', '?', '?', '?'], ['?', 'warm', '?', '?', '?', '?']]\n"
     ]
    }
   ],
   "source": [
    "s_final, g_final = learn(concepts, target)\n",
    "print(\"Final S:\", s_final, sep=\"\\n\")\n",
    "print(\"Final G:\", g_final, sep=\"\\n\")"
   ]
  },
  {
   "cell_type": "code",
   "execution_count": null,
   "metadata": {
    "collapsed": true
   },
   "outputs": [],
   "source": []
  }
 ],
 "metadata": {
  "kernelspec": {
   "display_name": "Python 3",
   "language": "python",
   "name": "python3"
  },
  "language_info": {
   "codemirror_mode": {
    "name": "ipython",
    "version": 3
   },
   "file_extension": ".py",
   "mimetype": "text/x-python",
   "name": "python",
   "nbconvert_exporter": "python",
   "pygments_lexer": "ipython3",
   "version": "3.6.2"
  }
 },
 "nbformat": 4,
 "nbformat_minor": 2
}
