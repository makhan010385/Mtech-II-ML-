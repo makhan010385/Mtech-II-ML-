{
 "cells": [
  {
   "cell_type": "code",
   "execution_count": 10,
   "metadata": {
    "collapsed": true
   },
   "outputs": [],
   "source": [
    "def infoGain(P, N): #Calculate Information gain or Class entropy\n",
    "    import math\n",
    "    return -P / (P + N) * math.log2(P / ( P + N)) - N / (P + N) * math.log2(N / (P + N))"
   ]
  },
  {
   "cell_type": "code",
   "execution_count": 11,
   "metadata": {
    "collapsed": true
   },
   "outputs": [],
   "source": [
    "def insertNode(tree, addTo, Node):#tree is a dictionary, addTo is the position where to add the Node\n",
    "    for k, v in tree.items(): #Traversal of tree\n",
    "        if isinstance(v, dict): #first iteration returns false as tehre are no subtree for root\n",
    "            tree[k] = insertNode(v, addTo, Node)\n",
    "    if addTo in tree:    #If d is found then add Node\n",
    "        if isinstance(tree[addTo], dict):#dict specifies what type of data is passed, here it is dictionary\n",
    "            tree[addTo][Node] = 'None' #if instance is already present, create another instance\n",
    "        else:\n",
    "            tree[addTo] = {Node:'None'} #if no instance is present then create it.\n",
    "    return tree"
   ]
  },
  {
   "cell_type": "code",
   "execution_count": 12,
   "metadata": {
    "collapsed": true
   },
   "outputs": [],
   "source": [
    "def insertConcept(tree, addTo, Node): #Same as insertNode but used to add Concept values\n",
    "    for k, v in tree.items(): #Traversal of tree\n",
    "        if isinstance(v, dict):\n",
    "            tree[k] = insertConcept(v, addTo, Node)\n",
    "    if addTo in tree:    #If d is found then add Node\n",
    "        tree[addTo] = Node\n",
    "    return tree"
   ]
  },
  {
   "cell_type": "code",
   "execution_count": 18,
   "metadata": {
    "collapsed": true
   },
   "outputs": [],
   "source": [
    "def getNextNode(data, AttributeList, concept, conceptVals, tree, addTo):\n",
    "    Total = data.shape[0] #Return number of rows\n",
    "    if Total == 0: #If Attibutes are empty, then return current value of tree\n",
    "        return tree\n",
    "    \n",
    "    countC = {}\n",
    "    for cVal in conceptVals:   #If Example is positive then return positive and If negative then return negative\n",
    "        dataCC = data[data[concept] == cVal]   #Get data for specific concept\n",
    "        countC[cVal] = dataCC.shape[0]         #Get the count of data for specific concept\n",
    "#returns count of rows having yes in one iteration and count of rows having no in the second iteration\n",
    "            \n",
    "    if countC[conceptVals[0]] == 0: #If all examples are Positive(Not Negative), return single node Positive\n",
    "        tree = insertConcept(tree, addTo, conceptVals[1])\n",
    "        return tree\n",
    "    \n",
    "    if countC[conceptVals[1]] == 0: #If all examples are Negative (Not Positive), return single node Negative\n",
    "        tree = insertConcept(tree, addTo, conceptVals[0])\n",
    "        return tree\n",
    "#if countC['Yes'] = 0 then insert 'No' in the tree at add to else if countC['No'] = 0 then insert 'Yes' in the tree at add to    \n",
    "    ClassEntropy = infoGain(countC[conceptVals[1]],countC[conceptVals[0]]) #Calculate Class Entropy for data\n",
    "    \n",
    "    Attr = {}         #Attribute dict holding list of possible values\n",
    "    for a in AttributeList:\n",
    "        Attr[a] = list(set(data[a]))\n",
    "        \n",
    "    AttrCount = {}    #Get the attribute values being positive and negative\n",
    "    EntropyAttr = {}  #Attribute Entropy\n",
    "    for att in Attr:\n",
    "        for vals in Attr [att]:\n",
    "            for c in conceptVals:\n",
    "                iData = data[data[att] == vals]       #Get data for specific attribute\n",
    "                dataAtt = iData[iData[concept] == c]  #Get data for specific attribute and concept  \n",
    "                AttrCount[c] = dataAtt.shape[0]  #Get the count of data for specific attribute and concept\n",
    "            TotalInfo = AttrCount[conceptVals[1]] + AttrCount[conceptVals[0]] #Total Attribute \n",
    "            if AttrCount[conceptVals[1]] == 0 or AttrCount[conceptVals[0]] == 0:\n",
    "                InfoGain=0\n",
    "            else:\n",
    "                InfoGain = infoGain(AttrCount[conceptVals[1]], AttrCount[conceptVals[0]]) #Calculate InfoGain for each  attr\n",
    "            \n",
    "            if att not in EntropyAttr:          #Calculate Entropy for each attr\n",
    "                EntropyAttr[att] = ( TotalInfo / Total ) * InfoGain\n",
    "            else:\n",
    "                EntropyAttr[att] = EntropyAttr[att] + ( TotalInfo / Total ) * InfoGain\n",
    "    \n",
    "    Gain = {}\n",
    "    for g in EntropyAttr:\n",
    "        Gain[g] = ClassEntropy - EntropyAttr[g] #Calculate gain\n",
    "\n",
    "    Node = max(Gain, key = Gain.get)               #Get root node\n",
    "\n",
    "    tree = insertNode(tree, addTo, Node)\n",
    "    for nD in Attr[Node]:\n",
    "        tree = insertNode(tree, Node, nD)    #Insert Attribute value to tree\n",
    "        newData = data[data[Node] == nD].drop(Node, axis = 1)#Get new data having Attribute of Node(nD) and removing rows with column Node\n",
    "        AttributeList=list(newData)[:-1]   #New Attribute List\n",
    "        tree = getNextNode(newData, AttributeList, concept, conceptVals, tree, nD) #Call the function recursively\n",
    "    return tree"
   ]
  },
  {
   "cell_type": "code",
   "execution_count": 1,
   "metadata": {
    "collapsed": true
   },
   "outputs": [],
   "source": [
    "def main():\n",
    "    from pandas import DataFrame \n",
    "    data = DataFrame.from_csv('PlayTennis.csv')    #Read CSV\n",
    "    print(data)\n",
    "    AttributeList = list(data)[:-1]            #Get Attribute List\n",
    "    concept = str(list(data)[-1])              #Get concept list\n",
    "    conceptVals = list(set(data[concept]))   #Get Concept values\n",
    "    tree = getNextNode(data, AttributeList, concept, conceptVals, {'root':'None'}, 'root')\n",
    "    print(tree)   #Call recursive function with initial value of tree and Node as root"
   ]
  },
  {
   "cell_type": "code",
   "execution_count": 22,
   "metadata": {
    "scrolled": true
   },
   "outputs": [
    {
     "name": "stdout",
     "output_type": "stream",
     "text": [
      "       Outlook Temperature Humidity    Wind PlayTennis\n",
      "slno                                                  \n",
      "0        Sunny         Hot     High    Weak         No\n",
      "1        Sunny         Hot     High  Strong         No\n",
      "2     Overcast         Hot     High    Weak        Yes\n",
      "3         Rain        Mild     High    Weak        Yes\n",
      "4         Rain        Cool   Normal    Weak        Yes\n",
      "5         Rain        Cool   Normal  Strong         No\n",
      "6     Overcast        Cool   Normal  Strong        Yes\n",
      "7        Sunny        Mild     High    Weak         No\n",
      "8        Sunny        Cool   Normal    Weak        Yes\n",
      "9         Rain        Mild   Normal    Weak        Yes\n",
      "10       Sunny        Mild   Normal  Strong        Yes\n",
      "11    Overcast        Mild     High  Strong        Yes\n",
      "12    Overcast         Hot   Normal    Weak        Yes\n",
      "13        Rain        Mild     High  Strong         No\n",
      "{'root': {'Outlook': {'Sunny': {'Humidity': {'Normal': 'Yes', 'High': 'No'}}, 'Rain': {'Wind': {'Strong': 'No', 'Weak': 'Yes'}}, 'Overcast': 'Yes'}}}\n"
     ]
    }
   ],
   "source": [
    "main()"
   ]
  },
  {
   "cell_type": "code",
   "execution_count": null,
   "metadata": {
    "collapsed": true
   },
   "outputs": [],
   "source": []
  }
 ],
 "metadata": {
  "kernelspec": {
   "display_name": "Python 3",
   "language": "python",
   "name": "python3"
  },
  "language_info": {
   "codemirror_mode": {
    "name": "ipython",
    "version": 3
   },
   "file_extension": ".py",
   "mimetype": "text/x-python",
   "name": "python",
   "nbconvert_exporter": "python",
   "pygments_lexer": "ipython3",
   "version": "3.6.2"
  }
 },
 "nbformat": 4,
 "nbformat_minor": 2
}
